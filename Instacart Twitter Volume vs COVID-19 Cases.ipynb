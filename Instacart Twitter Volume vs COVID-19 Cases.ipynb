{
 "cells": [
  {
   "cell_type": "code",
   "execution_count": 1,
   "metadata": {},
   "outputs": [],
   "source": [
    "import pandas as pd\n",
    "import numpy as np\n",
    "import matplotlib.pyplot as plt\n",
    "import seaborn as sns\n",
    "import warnings\n",
    "import re\n",
    "\n",
    "warnings.filterwarnings('ignore')"
   ]
  },
  {
   "cell_type": "markdown",
   "metadata": {},
   "source": [
    "# SCRAPING TWEETS WITH SELENIUM"
   ]
  },
  {
   "cell_type": "code",
   "execution_count": 81,
   "metadata": {},
   "outputs": [],
   "source": [
    "from selenium import webdriver\n",
    "from selenium.webdriver.common.keys import Keys\n",
    "from selenium.webdriver.common.action_chains import ActionChains\n",
    "import time\n",
    "\n",
    "# Setting path and opening browser\n",
    "path = r'C:\\\\Users\\\\lukef\\\\AppData\\\\Local\\\\BrowserDriver\\\\chromedriver.exe'\n",
    "driver = webdriver.Chrome(executable_path = path)#, options=opts)\n",
    "\n",
    "# Navigating to old twitter layout extension\n",
    "site = 'https://chrome.google.com/webstore/detail/old-twitter-layout/jjldkokjmjdnlnifmehbljdafklejeha/related?hl=en'\n",
    "driver.get(site)\n",
    "time.sleep(2)\n",
    "\n",
    "# Building actions class to interact with the website\n",
    "actions = ActionChains(driver)\n",
    "\n",
    "# Click download button\n",
    "actions.move_to_element(driver.find_element_by_class_name('g-c-Hf'))\n",
    "actions.click().perform()\n",
    "\n",
    "# Now you must click on download!!!\n",
    "time.sleep(5)"
   ]
  },
  {
   "cell_type": "markdown",
   "metadata": {},
   "source": [
    "The following function is modified from a stackexchange answer found here:  \n",
    "&ensp; https://stackoverflow.com/questions/32391303/how-to-scroll-to-the-end-of-the-page-using-selenium-in-python"
   ]
  },
  {
   "cell_type": "code",
   "execution_count": 82,
   "metadata": {},
   "outputs": [],
   "source": [
    "def scroll_to_bottom(driver, body):\n",
    "\n",
    "    old_position = 0\n",
    "    new_position = None\n",
    "\n",
    "    while new_position != old_position:\n",
    "        # Get old scroll position\n",
    "        old_position = driver.execute_script(\n",
    "                (\"return (window.pageYOffset !== undefined) ?\"\n",
    "                 \" window.pageYOffset : (document.documentElement ||\"\n",
    "                 \" document.body.parentNode || document.body);\"))\n",
    "        # Sleep and Scroll\n",
    "        body.send_keys(Keys.END)\n",
    "        time.sleep(1.25)\n",
    "        driver.execute_script((\n",
    "                \"var scrollingElement = (document.scrollingElement ||\"\n",
    "                \" document.body);scrollingElement.scrollTop =\"\n",
    "                \" scrollingElement.scrollHeight;\"))\n",
    "        body.send_keys(Keys.END)\n",
    "        time.sleep(.75)\n",
    "        body.send_keys(Keys.END)\n",
    "        # Get new position\n",
    "        new_position = driver.execute_script(\n",
    "                (\"return (window.pageYOffset !== undefined) ?\"\n",
    "                 \" window.pageYOffset : (document.documentElement ||\"\n",
    "                 \" document.body.parentNode || document.body);\"))"
   ]
  },
  {
   "cell_type": "markdown",
   "metadata": {},
   "source": [
    "Creating list of Twitter search URL's:"
   ]
  },
  {
   "cell_type": "code",
   "execution_count": 83,
   "metadata": {},
   "outputs": [],
   "source": [
    "feb = ['https://twitter.com/search?l=en&q=instacart%20' + \\\n",
    "        'since%3A2020-02-' + str(day) + \\\n",
    "        '%20until%3A2020-02-' + str(day+1) + \\\n",
    "        '&src=typd' for day in range(1,29)]\n",
    "\n",
    "feb29 = ['https://twitter.com/search?l=&q=instacart%20' + \\\n",
    "         'since%3A2020-02-29%20until%3A2020-03-01&src=typd']\n",
    "\n",
    "march = ['https://twitter.com/search?l=en&q=instacart%20' + \\\n",
    "        'since%3A2020-03-' + str(day) + \\\n",
    "        '%20until%3A2020-03-' + str(day+1) + \\\n",
    "        '&src=typd' for day in range(1,30)]\n",
    "\n",
    "searches = feb + feb29 + march"
   ]
  },
  {
   "cell_type": "markdown",
   "metadata": {},
   "source": [
    "Now I actually navigate to Twitter and scroll forever to the bottom to load all the tweets containing 'Instacart'."
   ]
  },
  {
   "cell_type": "code",
   "execution_count": 84,
   "metadata": {},
   "outputs": [],
   "source": [
    "# tweets = set()\n",
    "for i in range(len(searches)):\n",
    "    # Navigate to Twitter with the given search\n",
    "    driver.get(searches[i])\n",
    "    time.sleep(2)\n",
    "    \n",
    "    # Scroll down to load more tweets\n",
    "    body = driver.find_element_by_css_selector('body')\n",
    "    scroll_to_bottom(driver, body)\n",
    "    scroll_to_bottom(driver, body)\n",
    "    \n",
    "     # Get tweets then add them to our tweets set\n",
    "    twitter_elms = driver.find_elements_by_class_name(\"content\")\n",
    "    [tweets.add(elm.text) for elm in twitter_elms]\n",
    "    \n",
    "    \n",
    "# Closing browser\n",
    "driver.close()"
   ]
  },
  {
   "cell_type": "markdown",
   "metadata": {},
   "source": [
    "# CREATING PANDAS DATAFRAME"
   ]
  },
  {
   "cell_type": "code",
   "execution_count": 93,
   "metadata": {
    "scrolled": true
   },
   "outputs": [
    {
     "data": {
      "text/html": [
       "<div>\n",
       "<style scoped>\n",
       "    .dataframe tbody tr th:only-of-type {\n",
       "        vertical-align: middle;\n",
       "    }\n",
       "\n",
       "    .dataframe tbody tr th {\n",
       "        vertical-align: top;\n",
       "    }\n",
       "\n",
       "    .dataframe thead th {\n",
       "        text-align: right;\n",
       "    }\n",
       "</style>\n",
       "<table border=\"1\" class=\"dataframe\">\n",
       "  <thead>\n",
       "    <tr style=\"text-align: right;\">\n",
       "      <th></th>\n",
       "      <th>raw_text</th>\n",
       "    </tr>\n",
       "  </thead>\n",
       "  <tbody>\n",
       "    <tr>\n",
       "      <th>0</th>\n",
       "      <td>Ben\\n @benkillenit\\nMar 26\\nMore\\nBachelors lo...</td>\n",
       "    </tr>\n",
       "    <tr>\n",
       "      <th>1</th>\n",
       "      <td>Madge Weinstein \\n🦪\\n @bloatedlesbian\\nMar 24\\...</td>\n",
       "    </tr>\n",
       "    <tr>\n",
       "      <th>2</th>\n",
       "      <td>Eva Camille Reign\\n @Camille2Reign\\nMar 27\\nMo...</td>\n",
       "    </tr>\n",
       "    <tr>\n",
       "      <th>3</th>\n",
       "      <td>Miroki ★ smashing status quos ★\\n @madgingerbr...</td>\n",
       "    </tr>\n",
       "    <tr>\n",
       "      <th>4</th>\n",
       "      <td>DebC\\n @celedonia_deb\\nFeb 14\\nMore\\nGet groce...</td>\n",
       "    </tr>\n",
       "    <tr>\n",
       "      <th>...</th>\n",
       "      <td>...</td>\n",
       "    </tr>\n",
       "    <tr>\n",
       "      <th>8237</th>\n",
       "      <td>🌺\\nLeslie...Who Pd Kavanaughs Debts  \\n🧘🏼‍♀️\\...</td>\n",
       "    </tr>\n",
       "    <tr>\n",
       "      <th>8238</th>\n",
       "      <td>Nathaniel Meyersohn\\nVerified account\\n @nmeye...</td>\n",
       "    </tr>\n",
       "    <tr>\n",
       "      <th>8239</th>\n",
       "      <td>Beverly Cruz\\n @Beverly35447345\\n7h\\n7 hours a...</td>\n",
       "    </tr>\n",
       "    <tr>\n",
       "      <th>8240</th>\n",
       "      <td>Supermarket News\\n @SN_news\\nFeb 8\\nMore\\nIn a...</td>\n",
       "    </tr>\n",
       "    <tr>\n",
       "      <th>8241</th>\n",
       "      <td>Christina Toms\\n @ChristinaToms\\nMar 15\\nMore\\...</td>\n",
       "    </tr>\n",
       "  </tbody>\n",
       "</table>\n",
       "<p>8242 rows × 1 columns</p>\n",
       "</div>"
      ],
      "text/plain": [
       "                                               raw_text\n",
       "0     Ben\\n @benkillenit\\nMar 26\\nMore\\nBachelors lo...\n",
       "1     Madge Weinstein \\n🦪\\n @bloatedlesbian\\nMar 24\\...\n",
       "2     Eva Camille Reign\\n @Camille2Reign\\nMar 27\\nMo...\n",
       "3     Miroki ★ smashing status quos ★\\n @madgingerbr...\n",
       "4     DebC\\n @celedonia_deb\\nFeb 14\\nMore\\nGet groce...\n",
       "...                                                 ...\n",
       "8237   🌺\\nLeslie...Who Pd Kavanaughs Debts  \\n🧘🏼‍♀️\\...\n",
       "8238  Nathaniel Meyersohn\\nVerified account\\n @nmeye...\n",
       "8239  Beverly Cruz\\n @Beverly35447345\\n7h\\n7 hours a...\n",
       "8240  Supermarket News\\n @SN_news\\nFeb 8\\nMore\\nIn a...\n",
       "8241  Christina Toms\\n @ChristinaToms\\nMar 15\\nMore\\...\n",
       "\n",
       "[8242 rows x 1 columns]"
      ]
     },
     "execution_count": 93,
     "metadata": {},
     "output_type": "execute_result"
    }
   ],
   "source": [
    "df = pd.DataFrame(list(tweets), columns=['raw_text'])\n",
    "df"
   ]
  },
  {
   "cell_type": "markdown",
   "metadata": {},
   "source": [
    "# EXTRACTING DATE/TIME\n",
    "We can see that the time and date is always sandwiched as so:  \n",
    "&ensp;&ensp;```\\n @username\\n(TIME/DATE)\\n```    \n",
    "So I'll use a regular expression to capture just that."
   ]
  },
  {
   "cell_type": "code",
   "execution_count": 94,
   "metadata": {},
   "outputs": [
    {
     "data": {
      "text/html": [
       "<div>\n",
       "<style scoped>\n",
       "    .dataframe tbody tr th:only-of-type {\n",
       "        vertical-align: middle;\n",
       "    }\n",
       "\n",
       "    .dataframe tbody tr th {\n",
       "        vertical-align: top;\n",
       "    }\n",
       "\n",
       "    .dataframe thead th {\n",
       "        text-align: right;\n",
       "    }\n",
       "</style>\n",
       "<table border=\"1\" class=\"dataframe\">\n",
       "  <thead>\n",
       "    <tr style=\"text-align: right;\">\n",
       "      <th></th>\n",
       "      <th>raw_text</th>\n",
       "      <th>date</th>\n",
       "    </tr>\n",
       "  </thead>\n",
       "  <tbody>\n",
       "    <tr>\n",
       "      <th>0</th>\n",
       "      <td>Ben\\n @benkillenit\\nMar 26\\nMore\\nBachelors lo...</td>\n",
       "      <td>Mar 26</td>\n",
       "    </tr>\n",
       "    <tr>\n",
       "      <th>1</th>\n",
       "      <td>Madge Weinstein \\n🦪\\n @bloatedlesbian\\nMar 24\\...</td>\n",
       "      <td>Mar 24</td>\n",
       "    </tr>\n",
       "    <tr>\n",
       "      <th>2</th>\n",
       "      <td>Eva Camille Reign\\n @Camille2Reign\\nMar 27\\nMo...</td>\n",
       "      <td>Mar 27</td>\n",
       "    </tr>\n",
       "    <tr>\n",
       "      <th>3</th>\n",
       "      <td>Miroki ★ smashing status quos ★\\n @madgingerbr...</td>\n",
       "      <td>Mar 21</td>\n",
       "    </tr>\n",
       "    <tr>\n",
       "      <th>4</th>\n",
       "      <td>DebC\\n @celedonia_deb\\nFeb 14\\nMore\\nGet groce...</td>\n",
       "      <td>Feb 14</td>\n",
       "    </tr>\n",
       "  </tbody>\n",
       "</table>\n",
       "</div>"
      ],
      "text/plain": [
       "                                            raw_text    date\n",
       "0  Ben\\n @benkillenit\\nMar 26\\nMore\\nBachelors lo...  Mar 26\n",
       "1  Madge Weinstein \\n🦪\\n @bloatedlesbian\\nMar 24\\...  Mar 24\n",
       "2  Eva Camille Reign\\n @Camille2Reign\\nMar 27\\nMo...  Mar 27\n",
       "3  Miroki ★ smashing status quos ★\\n @madgingerbr...  Mar 21\n",
       "4  DebC\\n @celedonia_deb\\nFeb 14\\nMore\\nGet groce...  Feb 14"
      ]
     },
     "execution_count": 94,
     "metadata": {},
     "output_type": "execute_result"
    }
   ],
   "source": [
    "regex = r'\\n @.*?\\n(.*?)\\n'\n",
    "df['date'] = df['raw_text'].str.extract(regex)\n",
    "df.head()"
   ]
  },
  {
   "cell_type": "code",
   "execution_count": 95,
   "metadata": {},
   "outputs": [
    {
     "data": {
      "text/html": [
       "<div>\n",
       "<style scoped>\n",
       "    .dataframe tbody tr th:only-of-type {\n",
       "        vertical-align: middle;\n",
       "    }\n",
       "\n",
       "    .dataframe tbody tr th {\n",
       "        vertical-align: top;\n",
       "    }\n",
       "\n",
       "    .dataframe thead th {\n",
       "        text-align: right;\n",
       "    }\n",
       "</style>\n",
       "<table border=\"1\" class=\"dataframe\">\n",
       "  <thead>\n",
       "    <tr style=\"text-align: right;\">\n",
       "      <th></th>\n",
       "      <th>raw_text</th>\n",
       "      <th>date</th>\n",
       "    </tr>\n",
       "  </thead>\n",
       "  <tbody>\n",
       "    <tr>\n",
       "      <th>252</th>\n",
       "      <td>@DONNIEJDARKO\\nFeb 9\\nMore\\nan instacart shop...</td>\n",
       "      <td>NaN</td>\n",
       "    </tr>\n",
       "  </tbody>\n",
       "</table>\n",
       "</div>"
      ],
      "text/plain": [
       "                                              raw_text date\n",
       "252   @DONNIEJDARKO\\nFeb 9\\nMore\\nan instacart shop...  NaN"
      ]
     },
     "execution_count": 95,
     "metadata": {},
     "output_type": "execute_result"
    }
   ],
   "source": [
    "df[df['date'].isna()]"
   ]
  },
  {
   "cell_type": "markdown",
   "metadata": {},
   "source": [
    "# FILLING IN MISSING TIME/DATE VALUE\n",
    "Looks like one of them didn't have the ```'\\n'``` before the username, I'll just fix the one manually."
   ]
  },
  {
   "cell_type": "code",
   "execution_count": 96,
   "metadata": {},
   "outputs": [],
   "source": [
    "df.loc[252, 'date'] = 'Feb 9'"
   ]
  },
  {
   "cell_type": "markdown",
   "metadata": {},
   "source": [
    "# FIXING INCONSISTENT DATE FORMATTING\n",
    "Posts from today show up as ```4h``` or ```2m```, posts from this year appear as ```Month Day``` and beyond that is ```Day Month Year```. I'll switch everything to ```Day Month Year```.\n",
    "\n",
    "Thankfully none of the month abbreviations contain lower case m's nor lower case h's so dates containing those lowercase letters can all be safely replaced with today's date (2 March 2020)."
   ]
  },
  {
   "cell_type": "code",
   "execution_count": 97,
   "metadata": {},
   "outputs": [],
   "source": [
    "df.loc[df[df['date'].str.contains(r'h|m')].index, 'date'] = '29 Mar 2020'"
   ]
  },
  {
   "cell_type": "markdown",
   "metadata": {},
   "source": [
    "Now, the posts from this year don't contain the year in their date so by filtering for posts that don't have 4 digits in a row (```\\d{4}```) we can get all the posts from this year and extract their month and day to rearrange to day month year."
   ]
  },
  {
   "cell_type": "code",
   "execution_count": 98,
   "metadata": {},
   "outputs": [
    {
     "data": {
      "text/html": [
       "<div>\n",
       "<style scoped>\n",
       "    .dataframe tbody tr th:only-of-type {\n",
       "        vertical-align: middle;\n",
       "    }\n",
       "\n",
       "    .dataframe tbody tr th {\n",
       "        vertical-align: top;\n",
       "    }\n",
       "\n",
       "    .dataframe thead th {\n",
       "        text-align: right;\n",
       "    }\n",
       "</style>\n",
       "<table border=\"1\" class=\"dataframe\">\n",
       "  <thead>\n",
       "    <tr style=\"text-align: right;\">\n",
       "      <th></th>\n",
       "      <th>raw_text</th>\n",
       "      <th>date</th>\n",
       "    </tr>\n",
       "  </thead>\n",
       "  <tbody>\n",
       "    <tr>\n",
       "      <th>0</th>\n",
       "      <td>Ben\\n @benkillenit\\nMar 26\\nMore\\nBachelors lo...</td>\n",
       "      <td>Mar 26</td>\n",
       "    </tr>\n",
       "    <tr>\n",
       "      <th>1</th>\n",
       "      <td>Madge Weinstein \\n🦪\\n @bloatedlesbian\\nMar 24\\...</td>\n",
       "      <td>Mar 24</td>\n",
       "    </tr>\n",
       "    <tr>\n",
       "      <th>2</th>\n",
       "      <td>Eva Camille Reign\\n @Camille2Reign\\nMar 27\\nMo...</td>\n",
       "      <td>Mar 27</td>\n",
       "    </tr>\n",
       "    <tr>\n",
       "      <th>3</th>\n",
       "      <td>Miroki ★ smashing status quos ★\\n @madgingerbr...</td>\n",
       "      <td>Mar 21</td>\n",
       "    </tr>\n",
       "    <tr>\n",
       "      <th>4</th>\n",
       "      <td>DebC\\n @celedonia_deb\\nFeb 14\\nMore\\nGet groce...</td>\n",
       "      <td>Feb 14</td>\n",
       "    </tr>\n",
       "  </tbody>\n",
       "</table>\n",
       "</div>"
      ],
      "text/plain": [
       "                                            raw_text    date\n",
       "0  Ben\\n @benkillenit\\nMar 26\\nMore\\nBachelors lo...  Mar 26\n",
       "1  Madge Weinstein \\n🦪\\n @bloatedlesbian\\nMar 24\\...  Mar 24\n",
       "2  Eva Camille Reign\\n @Camille2Reign\\nMar 27\\nMo...  Mar 27\n",
       "3  Miroki ★ smashing status quos ★\\n @madgingerbr...  Mar 21\n",
       "4  DebC\\n @celedonia_deb\\nFeb 14\\nMore\\nGet groce...  Feb 14"
      ]
     },
     "execution_count": 98,
     "metadata": {},
     "output_type": "execute_result"
    }
   ],
   "source": [
    "this_year = df[~df['date'].str.contains(r'\\d{4}')]\n",
    "this_year.head()"
   ]
  },
  {
   "cell_type": "code",
   "execution_count": 99,
   "metadata": {},
   "outputs": [
    {
     "data": {
      "text/html": [
       "<div>\n",
       "<style scoped>\n",
       "    .dataframe tbody tr th:only-of-type {\n",
       "        vertical-align: middle;\n",
       "    }\n",
       "\n",
       "    .dataframe tbody tr th {\n",
       "        vertical-align: top;\n",
       "    }\n",
       "\n",
       "    .dataframe thead th {\n",
       "        text-align: right;\n",
       "    }\n",
       "</style>\n",
       "<table border=\"1\" class=\"dataframe\">\n",
       "  <thead>\n",
       "    <tr style=\"text-align: right;\">\n",
       "      <th></th>\n",
       "      <th>raw_text</th>\n",
       "      <th>date</th>\n",
       "    </tr>\n",
       "  </thead>\n",
       "  <tbody>\n",
       "    <tr>\n",
       "      <th>0</th>\n",
       "      <td>Ben\\n @benkillenit\\nMar 26\\nMore\\nBachelors lo...</td>\n",
       "      <td>26 Mar 2020</td>\n",
       "    </tr>\n",
       "    <tr>\n",
       "      <th>1</th>\n",
       "      <td>Madge Weinstein \\n🦪\\n @bloatedlesbian\\nMar 24\\...</td>\n",
       "      <td>24 Mar 2020</td>\n",
       "    </tr>\n",
       "    <tr>\n",
       "      <th>2</th>\n",
       "      <td>Eva Camille Reign\\n @Camille2Reign\\nMar 27\\nMo...</td>\n",
       "      <td>27 Mar 2020</td>\n",
       "    </tr>\n",
       "    <tr>\n",
       "      <th>3</th>\n",
       "      <td>Miroki ★ smashing status quos ★\\n @madgingerbr...</td>\n",
       "      <td>21 Mar 2020</td>\n",
       "    </tr>\n",
       "    <tr>\n",
       "      <th>4</th>\n",
       "      <td>DebC\\n @celedonia_deb\\nFeb 14\\nMore\\nGet groce...</td>\n",
       "      <td>14 Feb 2020</td>\n",
       "    </tr>\n",
       "    <tr>\n",
       "      <th>...</th>\n",
       "      <td>...</td>\n",
       "      <td>...</td>\n",
       "    </tr>\n",
       "    <tr>\n",
       "      <th>8237</th>\n",
       "      <td>🌺\\nLeslie...Who Pd Kavanaughs Debts  \\n🧘🏼‍♀️\\...</td>\n",
       "      <td>19 Mar 2020</td>\n",
       "    </tr>\n",
       "    <tr>\n",
       "      <th>8238</th>\n",
       "      <td>Nathaniel Meyersohn\\nVerified account\\n @nmeye...</td>\n",
       "      <td>6 Mar 2020</td>\n",
       "    </tr>\n",
       "    <tr>\n",
       "      <th>8239</th>\n",
       "      <td>Beverly Cruz\\n @Beverly35447345\\n7h\\n7 hours a...</td>\n",
       "      <td>29 Mar 2020</td>\n",
       "    </tr>\n",
       "    <tr>\n",
       "      <th>8240</th>\n",
       "      <td>Supermarket News\\n @SN_news\\nFeb 8\\nMore\\nIn a...</td>\n",
       "      <td>8 Feb 2020</td>\n",
       "    </tr>\n",
       "    <tr>\n",
       "      <th>8241</th>\n",
       "      <td>Christina Toms\\n @ChristinaToms\\nMar 15\\nMore\\...</td>\n",
       "      <td>15 Mar 2020</td>\n",
       "    </tr>\n",
       "  </tbody>\n",
       "</table>\n",
       "<p>8242 rows × 2 columns</p>\n",
       "</div>"
      ],
      "text/plain": [
       "                                               raw_text         date\n",
       "0     Ben\\n @benkillenit\\nMar 26\\nMore\\nBachelors lo...  26 Mar 2020\n",
       "1     Madge Weinstein \\n🦪\\n @bloatedlesbian\\nMar 24\\...  24 Mar 2020\n",
       "2     Eva Camille Reign\\n @Camille2Reign\\nMar 27\\nMo...  27 Mar 2020\n",
       "3     Miroki ★ smashing status quos ★\\n @madgingerbr...  21 Mar 2020\n",
       "4     DebC\\n @celedonia_deb\\nFeb 14\\nMore\\nGet groce...  14 Feb 2020\n",
       "...                                                 ...          ...\n",
       "8237   🌺\\nLeslie...Who Pd Kavanaughs Debts  \\n🧘🏼‍♀️\\...  19 Mar 2020\n",
       "8238  Nathaniel Meyersohn\\nVerified account\\n @nmeye...   6 Mar 2020\n",
       "8239  Beverly Cruz\\n @Beverly35447345\\n7h\\n7 hours a...  29 Mar 2020\n",
       "8240  Supermarket News\\n @SN_news\\nFeb 8\\nMore\\nIn a...   8 Feb 2020\n",
       "8241  Christina Toms\\n @ChristinaToms\\nMar 15\\nMore\\...  15 Mar 2020\n",
       "\n",
       "[8242 rows x 2 columns]"
      ]
     },
     "execution_count": 99,
     "metadata": {},
     "output_type": "execute_result"
    }
   ],
   "source": [
    "date_components = this_year['date'].str.extract(r'([A-Za-z]*)\\s(\\d{1,2})')\n",
    "fixed_dates = date_components[1] + ' ' + date_components[0] + ' 2020'\n",
    "\n",
    "df.loc[fixed_dates.index, 'date'] = fixed_dates\n",
    "df"
   ]
  },
  {
   "cell_type": "code",
   "execution_count": 100,
   "metadata": {},
   "outputs": [],
   "source": [
    "df['date'] = pd.to_datetime(df['date'])"
   ]
  },
  {
   "cell_type": "markdown",
   "metadata": {},
   "source": [
    "# CREATING DATAFRAME OF TOTAL TWEETS OF EACH DAY\n",
    "Saving it in the dataframe ```twt_cnt``` short for \"tweet count\"."
   ]
  },
  {
   "cell_type": "code",
   "execution_count": 196,
   "metadata": {},
   "outputs": [
    {
     "data": {
      "text/html": [
       "<div>\n",
       "<style scoped>\n",
       "    .dataframe tbody tr th:only-of-type {\n",
       "        vertical-align: middle;\n",
       "    }\n",
       "\n",
       "    .dataframe tbody tr th {\n",
       "        vertical-align: top;\n",
       "    }\n",
       "\n",
       "    .dataframe thead th {\n",
       "        text-align: right;\n",
       "    }\n",
       "</style>\n",
       "<table border=\"1\" class=\"dataframe\">\n",
       "  <thead>\n",
       "    <tr style=\"text-align: right;\">\n",
       "      <th></th>\n",
       "      <th>total_tweets</th>\n",
       "    </tr>\n",
       "    <tr>\n",
       "      <th>date</th>\n",
       "      <th></th>\n",
       "    </tr>\n",
       "  </thead>\n",
       "  <tbody>\n",
       "    <tr>\n",
       "      <th>2020-01-31</th>\n",
       "      <td>18</td>\n",
       "    </tr>\n",
       "    <tr>\n",
       "      <th>2020-02-01</th>\n",
       "      <td>116</td>\n",
       "    </tr>\n",
       "    <tr>\n",
       "      <th>2020-02-02</th>\n",
       "      <td>78</td>\n",
       "    </tr>\n",
       "    <tr>\n",
       "      <th>2020-02-03</th>\n",
       "      <td>44</td>\n",
       "    </tr>\n",
       "    <tr>\n",
       "      <th>2020-02-04</th>\n",
       "      <td>96</td>\n",
       "    </tr>\n",
       "  </tbody>\n",
       "</table>\n",
       "</div>"
      ],
      "text/plain": [
       "            total_tweets\n",
       "date                    \n",
       "2020-01-31            18\n",
       "2020-02-01           116\n",
       "2020-02-02            78\n",
       "2020-02-03            44\n",
       "2020-02-04            96"
      ]
     },
     "execution_count": 196,
     "metadata": {},
     "output_type": "execute_result"
    }
   ],
   "source": [
    "twt_cnt = df.groupby('date').count()\n",
    "twt_cnt.rename(columns = {'raw_text':'total_tweets'}, inplace = True)\n",
    "twt_cnt.head()"
   ]
  },
  {
   "cell_type": "markdown",
   "metadata": {},
   "source": [
    "## READING IN NEW YORK TIME COVID-19 DATA"
   ]
  },
  {
   "cell_type": "code",
   "execution_count": 197,
   "metadata": {},
   "outputs": [
    {
     "data": {
      "text/html": [
       "<div>\n",
       "<style scoped>\n",
       "    .dataframe tbody tr th:only-of-type {\n",
       "        vertical-align: middle;\n",
       "    }\n",
       "\n",
       "    .dataframe tbody tr th {\n",
       "        vertical-align: top;\n",
       "    }\n",
       "\n",
       "    .dataframe thead th {\n",
       "        text-align: right;\n",
       "    }\n",
       "</style>\n",
       "<table border=\"1\" class=\"dataframe\">\n",
       "  <thead>\n",
       "    <tr style=\"text-align: right;\">\n",
       "      <th></th>\n",
       "      <th>date</th>\n",
       "      <th>state</th>\n",
       "      <th>fips</th>\n",
       "      <th>cases</th>\n",
       "      <th>deaths</th>\n",
       "    </tr>\n",
       "  </thead>\n",
       "  <tbody>\n",
       "    <tr>\n",
       "      <th>0</th>\n",
       "      <td>2020-01-21</td>\n",
       "      <td>Washington</td>\n",
       "      <td>53</td>\n",
       "      <td>1</td>\n",
       "      <td>0</td>\n",
       "    </tr>\n",
       "    <tr>\n",
       "      <th>1</th>\n",
       "      <td>2020-01-22</td>\n",
       "      <td>Washington</td>\n",
       "      <td>53</td>\n",
       "      <td>1</td>\n",
       "      <td>0</td>\n",
       "    </tr>\n",
       "    <tr>\n",
       "      <th>2</th>\n",
       "      <td>2020-01-23</td>\n",
       "      <td>Washington</td>\n",
       "      <td>53</td>\n",
       "      <td>1</td>\n",
       "      <td>0</td>\n",
       "    </tr>\n",
       "    <tr>\n",
       "      <th>3</th>\n",
       "      <td>2020-01-24</td>\n",
       "      <td>Illinois</td>\n",
       "      <td>17</td>\n",
       "      <td>1</td>\n",
       "      <td>0</td>\n",
       "    </tr>\n",
       "    <tr>\n",
       "      <th>4</th>\n",
       "      <td>2020-01-24</td>\n",
       "      <td>Washington</td>\n",
       "      <td>53</td>\n",
       "      <td>1</td>\n",
       "      <td>0</td>\n",
       "    </tr>\n",
       "  </tbody>\n",
       "</table>\n",
       "</div>"
      ],
      "text/plain": [
       "        date       state  fips  cases  deaths\n",
       "0 2020-01-21  Washington    53      1       0\n",
       "1 2020-01-22  Washington    53      1       0\n",
       "2 2020-01-23  Washington    53      1       0\n",
       "3 2020-01-24    Illinois    17      1       0\n",
       "4 2020-01-24  Washington    53      1       0"
      ]
     },
     "execution_count": 197,
     "metadata": {},
     "output_type": "execute_result"
    }
   ],
   "source": [
    "file = r'C:\\Users\\lukef\\Desktop\\COVID_NYT\\covid-19-data\\us-states.csv'\n",
    "cov = pd.read_csv(file)\n",
    "cov['date'] = pd.to_datetime(cov['date'])\n",
    "\n",
    "cov.head()"
   ]
  },
  {
   "cell_type": "markdown",
   "metadata": {},
   "source": [
    "## CREATING DATAFRAME FOR TOTAL COVID-19 NUMBERS FOR EACH DAY"
   ]
  },
  {
   "cell_type": "code",
   "execution_count": 135,
   "metadata": {},
   "outputs": [],
   "source": [
    "sums = cov.groupby('date').sum()"
   ]
  },
  {
   "cell_type": "markdown",
   "metadata": {},
   "source": [
    "## GRAPHING TWEETS VS COVID-19 CASES"
   ]
  },
  {
   "cell_type": "code",
   "execution_count": 202,
   "metadata": {},
   "outputs": [
    {
     "data": {
      "image/png": "[encoded data removed]",
      "text/plain": [
       "<Figure size 1080x720 with 1 Axes>"
      ]
     },
     "metadata": {
      "needs_background": "light"
     },
     "output_type": "display_data"
    }
   ],
   "source": [
    "# Setting up the figure and axes\n",
    "fig = plt.figure(figsize=(15,10))\n",
    "ax = fig.add_subplot(111)\n",
    "\n",
    "# Creating the regplot\n",
    "sns.scatterplot(x = sums.loc['2020-02-15':'2020-03-27']['cases'], \n",
    "                y = twt_cnt.loc['2020-02-15':'2020-03-27']['total_tweets'],\n",
    "                s = 225,\n",
    "                alpha = 0.6,\n",
    "                ax = ax);\n",
    "\n",
    "# Labeling\n",
    "ax.set_title('Instacart Tweets vs US Corona Virus Cases')\n",
    "ax.set_ylabel('Number of Tweets\\n(Containing instacart)')\n",
    "ax.set_xlabel('US Corona Virus Cases')\n",
    "\n",
    "# Annotating point before large jump\n",
    "ax.annotate(s = 'March 19, 2020:\\nCalifornia issues stay-at-home,\\nmost states on lockdown now',\n",
    "            xy = (sums.loc['2020-03-19', 'cases'],\n",
    "                  twt_cnt.loc['2020-03-19', 'total_tweets']),\n",
    "            arrowprops=dict(facecolor='black', shrink=0.05),\n",
    "            xytext=(80, -80), \n",
    "            textcoords='offset points')\n",
    "\n",
    "\n",
    "# Increasing size of text and ticks\n",
    "for item in ([ax.title, ax.xaxis.label, ax.yaxis.label] +\n",
    "             ax.get_xticklabels() + ax.get_yticklabels()):\n",
    "    item.set_fontsize(20);"
   ]
  },
  {
   "cell_type": "markdown",
   "metadata": {},
   "source": [
    "Given the exponential growth in cases it is hard to get much information from this graph. To make it more legible I'll take a logarithm of the x-axis (corona virus cases) below."
   ]
  },
  {
   "cell_type": "markdown",
   "metadata": {},
   "source": [
    "# GRAPHING TWEETS VS LOG CASES"
   ]
  },
  {
   "cell_type": "code",
   "execution_count": 280,
   "metadata": {},
   "outputs": [
    {
     "data": {
      "image/png": "[encoded data removed]",
      "text/plain": [
       "<Figure size 1080x720 with 1 Axes>"
      ]
     },
     "metadata": {
      "needs_background": "light"
     },
     "output_type": "display_data"
    }
   ],
   "source": [
    "# Setting up the figure and axes\n",
    "fig = plt.figure(figsize=(15,10))\n",
    "ax = fig.add_subplot(111)\n",
    "\n",
    "# Creating the regplot\n",
    "reg = sns.regplot(x = np.log10(sums.loc['2020-02-15':'2020-03-27']['cases']), \n",
    "                  y = twt_cnt.loc['2020-02-15':'2020-03-27']['total_tweets'],\n",
    "                  ax = ax,\n",
    "                  line_kws={'color': 'red'});\n",
    "    \n",
    "# Labeling\n",
    "ax.set_title('Instacart Tweets vs US Corona Virus Cases', fontdict={'fontsize':22})\n",
    "ax.set_ylabel('Number of Tweets*\\n(Containing instacart)')\n",
    "ax.set_xlabel('US Corona Virus Cases\\n(Log base 10)')\n",
    "\n",
    "# Annotating point before large jump\n",
    "ax.annotate(s = 'March 19, 2020:\\nCalifornia issues stay-at-home,\\nmost states on lockdown now',\n",
    "            xy = (np.log10(sums.loc['2020-03-19', 'cases']),\n",
    "                  twt_cnt.loc['2020-03-19', 'total_tweets']),\n",
    "            arrowprops=dict(facecolor='black', shrink=0.05),\n",
    "            xytext=(30, -65), \n",
    "            textcoords='offset points')\n",
    "\n",
    "# Adding note\n",
    "note = 'Each point represents a single day.\\n\\n*Number of tweets is the total ' + \\\n",
    "       'number of tweets returned from the Twitter search engine, which\\n does not ' + \\\n",
    "       'return every single tweet fitting the search criteria, i.e. this number is a lower bound.'\n",
    "ax.text(0.0,-.30, note, size=14, ha='left', transform=ax.transAxes)\n",
    "\n",
    "# Increasing size of text and ticks\n",
    "for item in ([ax.xaxis.label, ax.yaxis.label] +\n",
    "             ax.get_xticklabels() + ax.get_yticklabels()):\n",
    "    item.set_fontsize(20);\n",
    "    \n",
    "# Saving the graph\n",
    "fig.savefig('Tweets vs COVID-19 Cases.png', dpi = fig.dpi, bbox_inches = \"tight\");"
   ]
  },
  {
   "cell_type": "markdown",
   "metadata": {},
   "source": [
    "Now we can get a better visual on how the tweets have been growing with Corona Virus cases. Annoyingly, however, Seaborn does not return the value of their regression line directly but it can be computed using:  \n",
    "```Python\n",
    "x0, x1 = reg.get_lines()[0].get_xdata()[0], reg.get_lines()[0].get_xdata()[1]\n",
    "y0, y1 = reg.get_lines()[0].get_ydata()[0], reg.get_lines()[0].get_ydata()[1]\n",
    "m = (y1 - y0) / (x1 - x0); b = y0 - (m * x0)```  \n",
    "From which we get the following equation:  \n",
    "&ensp;&ensp;&ensp;&ensp;&ensp;$y = 75\\cdot\\log_{10}(x) - 54$  \n",
    "Hence every time the US Corona virus cases increases tenfold we see approximately 75 more tweets. Let's do an actual regression to see the R-squared values and double check the line we found above."
   ]
  },
  {
   "cell_type": "markdown",
   "metadata": {},
   "source": [
    "# OLS REGRESSION"
   ]
  },
  {
   "cell_type": "code",
   "execution_count": 249,
   "metadata": {},
   "outputs": [
    {
     "name": "stdout",
     "output_type": "stream",
     "text": [
      "                                 OLS Regression Results                                \n",
      "=======================================================================================\n",
      "Dep. Variable:           total_tweets   R-squared (uncentered):                   0.894\n",
      "Model:                            OLS   Adj. R-squared (uncentered):              0.888\n",
      "Method:                 Least Squares   F-statistic:                              168.3\n",
      "Date:                Mon, 30 Mar 2020   Prob (F-statistic):                    3.34e-20\n",
      "Time:                        13:27:36   Log-Likelihood:                         -232.81\n",
      "No. Observations:                  42   AIC:                                      469.6\n",
      "Df Residuals:                      40   BIC:                                      473.1\n",
      "Df Model:                           2                                                  \n",
      "Covariance Type:            nonrobust                                                  \n",
      "==============================================================================\n",
      "                 coef    std err          t      P>|t|      [0.025      0.975]\n",
      "------------------------------------------------------------------------------\n",
      "cases         75.0023      8.048      9.320      0.000      58.737      91.268\n",
      "const        -53.9581     24.408     -2.211      0.033    -103.289      -4.627\n",
      "==============================================================================\n",
      "Omnibus:                        3.243   Durbin-Watson:                   0.538\n",
      "Prob(Omnibus):                  0.198   Jarque-Bera (JB):                2.087\n",
      "Skew:                           0.407   Prob(JB):                        0.352\n",
      "Kurtosis:                       3.728   Cond. No.                         8.28\n",
      "==============================================================================\n",
      "\n",
      "Warnings:\n",
      "[1] Standard Errors assume that the covariance matrix of the errors is correctly specified.\n"
     ]
    }
   ],
   "source": [
    "import statsmodels.api as sm\n",
    "\n",
    "# Adding a constant (since we later take log10 the constant is made to be 10)\n",
    "sums['const'] = 10\n",
    "\n",
    "reg = sm.OLS(endog = twt_cnt.loc['2020-02-15':'2020-03-27']['total_tweets'], \n",
    "             exog = np.log10(sums.loc['2020-02-15':'2020-03-27'][['cases','const']]),\n",
    "             hasconst = False)\n",
    "results = reg.fit()\n",
    "print(results.summary())"
   ]
  },
  {
   "cell_type": "markdown",
   "metadata": {},
   "source": [
    "We see that these results indeed agree with the seaborn results.  \n",
    "\n",
    "Suppose now we want to know how many tweets to expect every time the number of cases double. While we could run the above regression with ```log2``` instead, let's figure it out based on what we have above.\n",
    "\n",
    "\\begin{align}\n",
    "Y &= 75 \\cdot \\log_{10}(X) - 54 \\\\ \\\\\n",
    "\\Rightarrow Y_{double} &= 75 \\cdot \\log_{10}(2\\cdot X) - 54 \\\\\n",
    " &= 75 \\cdot \\big(\\log_{10}(2) + \\log_{10} (X)\\big) - 54 \\\\\n",
    " &= 75 \\cdot \\log_{10}(X) - 54 + 75\\cdot\\log_{10}(2) \\\\\n",
    " &= Y + \\log_{10}(2) \\\\ \\\\\n",
    "\\Rightarrow Y_{double} - Y &=  75\\cdot \\log_{10}(2) \\\\ \n",
    " &= 22.57794\n",
    "\\end{align}\n",
    "\n",
    "Therefore everyone time the corona virus cases double we expect to see about 23 new tweets containing instacart! Let's check our work by running the regression with ```log2```."
   ]
  },
  {
   "cell_type": "code",
   "execution_count": 250,
   "metadata": {},
   "outputs": [
    {
     "name": "stdout",
     "output_type": "stream",
     "text": [
      "                                 OLS Regression Results                                \n",
      "=======================================================================================\n",
      "Dep. Variable:           total_tweets   R-squared (uncentered):                   0.894\n",
      "Model:                            OLS   Adj. R-squared (uncentered):              0.888\n",
      "Method:                 Least Squares   F-statistic:                              168.3\n",
      "Date:                Mon, 30 Mar 2020   Prob (F-statistic):                    3.34e-20\n",
      "Time:                        13:40:30   Log-Likelihood:                         -232.81\n",
      "No. Observations:                  42   AIC:                                      469.6\n",
      "Df Residuals:                      40   BIC:                                      473.1\n",
      "Df Model:                           2                                                  \n",
      "Covariance Type:            nonrobust                                                  \n",
      "==============================================================================\n",
      "                 coef    std err          t      P>|t|      [0.025      0.975]\n",
      "------------------------------------------------------------------------------\n",
      "cases         22.5780      2.423      9.320      0.000      17.682      27.474\n",
      "const        -53.9581     24.408     -2.211      0.033    -103.289      -4.627\n",
      "==============================================================================\n",
      "Omnibus:                        3.243   Durbin-Watson:                   0.538\n",
      "Prob(Omnibus):                  0.198   Jarque-Bera (JB):                2.087\n",
      "Skew:                           0.407   Prob(JB):                        0.352\n",
      "Kurtosis:                       3.728   Cond. No.                         25.4\n",
      "==============================================================================\n",
      "\n",
      "Warnings:\n",
      "[1] Standard Errors assume that the covariance matrix of the errors is correctly specified.\n"
     ]
    }
   ],
   "source": [
    "sums['const'] = 2\n",
    "\n",
    "reg = sm.OLS(endog = twt_cnt.loc['2020-02-15':'2020-03-27']['total_tweets'], \n",
    "             exog = np.log2(sums.loc['2020-02-15':'2020-03-27'][['cases','const']]),\n",
    "             hasconst = False)\n",
    "results = reg.fit()\n",
    "print(results.summary())"
   ]
  },
  {
   "cell_type": "markdown",
   "metadata": {},
   "source": [
    "Voilà! The numbers agree."
   ]
  }
 ],
 "metadata": {
  "kernelspec": {
   "display_name": "Python [conda env:sketch] *",
   "language": "python",
   "name": "conda-env-sketch-py"
  },
  "language_info": {
   "codemirror_mode": {
    "name": "ipython",
    "version": 3
   },
   "file_extension": ".py",
   "mimetype": "text/x-python",
   "name": "python",
   "nbconvert_exporter": "python",
   "pygments_lexer": "ipython3",
   "version": "3.8.1"
  }
 },
 "nbformat": 4,
 "nbformat_minor": 2
}
