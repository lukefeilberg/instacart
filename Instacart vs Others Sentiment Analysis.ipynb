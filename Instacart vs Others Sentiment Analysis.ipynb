{
 "cells": [
  {
   "cell_type": "markdown",
   "metadata": {},
   "source": [
    "# Ideas\n",
    "1. Compare sentiment between Instacart, DoorDash, GrubHub, Uber Eats and Postmates tweets\n",
    "2. Compare how quantity of tweets containing Instacart in a day correlate with number COVID-19 cases of that day\n",
    "3. Restrict tweets to locations on official lockdown and view density of tweets before and after lockdown\n",
    "  - \"instacart\" near:\"New York, USA\" within:15mi"
   ]
  },
  {
   "cell_type": "code",
   "execution_count": 2,
   "metadata": {},
   "outputs": [],
   "source": [
    "import pandas as pd\n",
    "import numpy as np\n",
    "import matplotlib.pyplot as plt\n",
    "import seaborn as sns\n",
    "import warnings\n",
    "import re\n",
    "\n",
    "from nltk.sentiment.vader import SentimentIntensityAnalyzer\n",
    "\n",
    "warnings.filterwarnings('ignore')"
   ]
  },
  {
   "cell_type": "markdown",
   "metadata": {},
   "source": [
    "# PART 1: COMPARING COMPANIES\n",
    "<a href=\"https://www.selenium.dev/\">Selenium</a> is a package used to automate web browsing. To run this yourself you'll have to download the Selenium WebDriver and set the ```path``` variable to where it is located on your computer. I have found that Google Chrome is much faster than FireFox and therefore recommend Chrome.\n",
    "\n",
    "The problem using Selenium to scrape tweets is Twitter makes their HTML tags incredibly obfuscated. The following is an example of the class names used to store a single tweet:\n",
    "<img src=\"https://i.ibb.co/kMWwPWr/twitter-tags-hard.jpg\" alt=\"twitter-tags-hard\" border=\"0\">\n",
    "\n",
    "To get around this, I download a Chrome extension that displays the old twitter layout. With this I'm able to get the tweets by simply looking at class name ```\"content\"```:\n",
    "<img src=\"https://i.ibb.co/R2wb5ZV/twitter-easy-tags.jpg\" alt=\"twitter-easy-tags\" border=\"0\">\n",
    "\n",
    "So I open Chrome with Selenium, download the Chrome extension, search for the desired results, then I scroll for a long time to the bottom of the search results in order to load and save all the tweets!"
   ]
  },
  {
   "cell_type": "code",
   "execution_count": 1,
   "metadata": {
    "scrolled": true
   },
   "outputs": [],
   "source": [
    "from selenium import webdriver\n",
    "from selenium.webdriver.common.keys import Keys\n",
    "from selenium.webdriver.common.action_chains import ActionChains\n",
    "import time\n",
    "\n",
    "# Setting path and opening browser\n",
    "path = r'C:\\\\Users\\\\lukef\\\\AppData\\\\Local\\\\BrowserDriver\\\\chromedriver.exe'\n",
    "driver = webdriver.Chrome(executable_path = path)#, options=opts)\n",
    "\n",
    "# Navigating to old twitter layout extension\n",
    "site = 'https://chrome.google.com/webstore/detail/old-twitter-layout/jjldkokjmjdnlnifmehbljdafklejeha/related?hl=en'\n",
    "driver.get(site)\n",
    "time.sleep(2)\n",
    "\n",
    "# Building actions class to interact with the website\n",
    "actions = ActionChains(driver)\n",
    "\n",
    "# Click download button\n",
    "actions.move_to_element(driver.find_element_by_class_name('g-c-Hf'))\n",
    "actions.click().perform()\n",
    "\n",
    "# Now you must click on download!!!\n",
    "time.sleep(5)"
   ]
  },
  {
   "cell_type": "code",
   "execution_count": 2,
   "metadata": {},
   "outputs": [],
   "source": [
    "companies = ['Instacart', 'DoorDash', 'GrubHub', 'Uber Eats', 'Postmates']\n",
    "sites = ['https://twitter.com/search?f=tweets&vertical=default&q='+company+'&l=en&src=typd' for company in companies]\n"
   ]
  },
  {
   "cell_type": "code",
   "execution_count": 3,
   "metadata": {},
   "outputs": [],
   "source": [
    "tweets = []\n",
    "for i, company in enumerate(companies):\n",
    "    # Navigating to twitter search\n",
    "    driver.get(sites[i])\n",
    "    time.sleep(2)\n",
    "\n",
    "    # Scroll down to load more tweets\n",
    "    body = driver.find_element_by_css_selector('body')\n",
    "    start = time.time()\n",
    "    while time.time() - start < 60*10:\n",
    "        body.send_keys(Keys.PAGE_DOWN)\n",
    "\n",
    "    # Get tweets\n",
    "    twitter_elms = driver.find_elements_by_class_name(\"content\")\n",
    "    tweets.append([twitter_elms[i].text for i in range(len(twitter_elms))])\n",
    "    \n",
    "# Closing browser\n",
    "driver.close()"
   ]
  },
  {
   "cell_type": "code",
   "execution_count": 10,
   "metadata": {},
   "outputs": [
    {
     "data": {
      "text/html": [
       "<div>\n",
       "<style scoped>\n",
       "    .dataframe tbody tr th:only-of-type {\n",
       "        vertical-align: middle;\n",
       "    }\n",
       "\n",
       "    .dataframe tbody tr th {\n",
       "        vertical-align: top;\n",
       "    }\n",
       "\n",
       "    .dataframe thead th {\n",
       "        text-align: right;\n",
       "    }\n",
       "</style>\n",
       "<table border=\"1\" class=\"dataframe\">\n",
       "  <thead>\n",
       "    <tr style=\"text-align: right;\">\n",
       "      <th></th>\n",
       "      <th>raw_text</th>\n",
       "      <th>company</th>\n",
       "    </tr>\n",
       "  </thead>\n",
       "  <tbody>\n",
       "    <tr>\n",
       "      <th>0</th>\n",
       "      <td>Diversity News Magazine\\n @RealDNewsMag\\n12m\\n...</td>\n",
       "      <td>Instacart</td>\n",
       "    </tr>\n",
       "    <tr>\n",
       "      <th>1</th>\n",
       "      <td>Deb WARRIOR WOMAN Farmer\\n @realdebfarmer\\n13m...</td>\n",
       "      <td>Instacart</td>\n",
       "    </tr>\n",
       "    <tr>\n",
       "      <th>2</th>\n",
       "      <td>Polly Em\\n @PollyMoxie1\\n13m\\n13 minutes ago\\n...</td>\n",
       "      <td>Instacart</td>\n",
       "    </tr>\n",
       "    <tr>\n",
       "      <th>3</th>\n",
       "      <td>shevonn damn\\n @thatsasexyname\\n14m\\n14 minute...</td>\n",
       "      <td>Instacart</td>\n",
       "    </tr>\n",
       "    <tr>\n",
       "      <th>4</th>\n",
       "      <td>Hillary Bilheimer\\n @hbilheimer\\n20m\\n20 minut...</td>\n",
       "      <td>Instacart</td>\n",
       "    </tr>\n",
       "  </tbody>\n",
       "</table>\n",
       "</div>"
      ],
      "text/plain": [
       "                                            raw_text    company\n",
       "0  Diversity News Magazine\\n @RealDNewsMag\\n12m\\n...  Instacart\n",
       "1  Deb WARRIOR WOMAN Farmer\\n @realdebfarmer\\n13m...  Instacart\n",
       "2  Polly Em\\n @PollyMoxie1\\n13m\\n13 minutes ago\\n...  Instacart\n",
       "3  shevonn damn\\n @thatsasexyname\\n14m\\n14 minute...  Instacart\n",
       "4  Hillary Bilheimer\\n @hbilheimer\\n20m\\n20 minut...  Instacart"
      ]
     },
     "execution_count": 10,
     "metadata": {},
     "output_type": "execute_result"
    }
   ],
   "source": [
    "df_values = [[tweets[j][i],companies[j]] for j in range(len(companies)) \\\n",
    "                                         for i in range(len(tweets[j]))]\n",
    "\n",
    "df = pd.DataFrame(df_values, columns=['raw_text','company'])\n",
    "\n",
    "df.to_csv('raw_tweets_df.csv', index= False)\n",
    "\n",
    "df.head()"
   ]
  },
  {
   "cell_type": "markdown",
   "metadata": {},
   "source": [
    "## Reading in dataframe"
   ]
  },
  {
   "cell_type": "code",
   "execution_count": 73,
   "metadata": {},
   "outputs": [
    {
     "data": {
      "text/html": [
       "<div>\n",
       "<style scoped>\n",
       "    .dataframe tbody tr th:only-of-type {\n",
       "        vertical-align: middle;\n",
       "    }\n",
       "\n",
       "    .dataframe tbody tr th {\n",
       "        vertical-align: top;\n",
       "    }\n",
       "\n",
       "    .dataframe thead th {\n",
       "        text-align: right;\n",
       "    }\n",
       "</style>\n",
       "<table border=\"1\" class=\"dataframe\">\n",
       "  <thead>\n",
       "    <tr style=\"text-align: right;\">\n",
       "      <th></th>\n",
       "      <th>raw_text</th>\n",
       "      <th>company</th>\n",
       "    </tr>\n",
       "  </thead>\n",
       "  <tbody>\n",
       "    <tr>\n",
       "      <td>0</td>\n",
       "      <td>Diversity News Magazine\\n @RealDNewsMag\\n12m\\n...</td>\n",
       "      <td>Instacart</td>\n",
       "    </tr>\n",
       "    <tr>\n",
       "      <td>1</td>\n",
       "      <td>Deb WARRIOR WOMAN Farmer\\n @realdebfarmer\\n13m...</td>\n",
       "      <td>Instacart</td>\n",
       "    </tr>\n",
       "    <tr>\n",
       "      <td>2</td>\n",
       "      <td>Polly Em\\n @PollyMoxie1\\n13m\\n13 minutes ago\\n...</td>\n",
       "      <td>Instacart</td>\n",
       "    </tr>\n",
       "    <tr>\n",
       "      <td>3</td>\n",
       "      <td>shevonn damn\\n @thatsasexyname\\n14m\\n14 minute...</td>\n",
       "      <td>Instacart</td>\n",
       "    </tr>\n",
       "    <tr>\n",
       "      <td>4</td>\n",
       "      <td>Hillary Bilheimer\\n @hbilheimer\\n20m\\n20 minut...</td>\n",
       "      <td>Instacart</td>\n",
       "    </tr>\n",
       "  </tbody>\n",
       "</table>\n",
       "</div>"
      ],
      "text/plain": [
       "                                            raw_text    company\n",
       "0  Diversity News Magazine\\n @RealDNewsMag\\n12m\\n...  Instacart\n",
       "1  Deb WARRIOR WOMAN Farmer\\n @realdebfarmer\\n13m...  Instacart\n",
       "2  Polly Em\\n @PollyMoxie1\\n13m\\n13 minutes ago\\n...  Instacart\n",
       "3  shevonn damn\\n @thatsasexyname\\n14m\\n14 minute...  Instacart\n",
       "4  Hillary Bilheimer\\n @hbilheimer\\n20m\\n20 minut...  Instacart"
      ]
     },
     "execution_count": 73,
     "metadata": {},
     "output_type": "execute_result"
    }
   ],
   "source": [
    "df = pd.read_csv('raw_tweets_df.csv')\n",
    "df.head()"
   ]
  },
  {
   "cell_type": "markdown",
   "metadata": {},
   "source": [
    "## Removing duplicates\n",
    "Since I'd like to compare the sentiment of tweets of each company I remove any duplicate tweets meaning more than one company was referenced in the same tweet."
   ]
  },
  {
   "cell_type": "code",
   "execution_count": 74,
   "metadata": {},
   "outputs": [
    {
     "data": {
      "text/html": [
       "<div>\n",
       "<style scoped>\n",
       "    .dataframe tbody tr th:only-of-type {\n",
       "        vertical-align: middle;\n",
       "    }\n",
       "\n",
       "    .dataframe tbody tr th {\n",
       "        vertical-align: top;\n",
       "    }\n",
       "\n",
       "    .dataframe thead th {\n",
       "        text-align: right;\n",
       "    }\n",
       "</style>\n",
       "<table border=\"1\" class=\"dataframe\">\n",
       "  <thead>\n",
       "    <tr style=\"text-align: right;\">\n",
       "      <th></th>\n",
       "      <th>raw_text</th>\n",
       "      <th>company</th>\n",
       "    </tr>\n",
       "  </thead>\n",
       "  <tbody>\n",
       "    <tr>\n",
       "      <td>0</td>\n",
       "      <td>Diversity News Magazine\\n @RealDNewsMag\\n12m\\n...</td>\n",
       "      <td>Instacart</td>\n",
       "    </tr>\n",
       "    <tr>\n",
       "      <td>1</td>\n",
       "      <td>Deb WARRIOR WOMAN Farmer\\n @realdebfarmer\\n13m...</td>\n",
       "      <td>Instacart</td>\n",
       "    </tr>\n",
       "    <tr>\n",
       "      <td>2</td>\n",
       "      <td>Polly Em\\n @PollyMoxie1\\n13m\\n13 minutes ago\\n...</td>\n",
       "      <td>Instacart</td>\n",
       "    </tr>\n",
       "    <tr>\n",
       "      <td>3</td>\n",
       "      <td>shevonn damn\\n @thatsasexyname\\n14m\\n14 minute...</td>\n",
       "      <td>Instacart</td>\n",
       "    </tr>\n",
       "    <tr>\n",
       "      <td>4</td>\n",
       "      <td>Hillary Bilheimer\\n @hbilheimer\\n20m\\n20 minut...</td>\n",
       "      <td>Instacart</td>\n",
       "    </tr>\n",
       "  </tbody>\n",
       "</table>\n",
       "</div>"
      ],
      "text/plain": [
       "                                            raw_text    company\n",
       "0  Diversity News Magazine\\n @RealDNewsMag\\n12m\\n...  Instacart\n",
       "1  Deb WARRIOR WOMAN Farmer\\n @realdebfarmer\\n13m...  Instacart\n",
       "2  Polly Em\\n @PollyMoxie1\\n13m\\n13 minutes ago\\n...  Instacart\n",
       "3  shevonn damn\\n @thatsasexyname\\n14m\\n14 minute...  Instacart\n",
       "4  Hillary Bilheimer\\n @hbilheimer\\n20m\\n20 minut...  Instacart"
      ]
     },
     "execution_count": 74,
     "metadata": {},
     "output_type": "execute_result"
    }
   ],
   "source": [
    "df = df[~df['raw_text'].duplicated(keep=False)]\n",
    "df.head()"
   ]
  },
  {
   "cell_type": "markdown",
   "metadata": {},
   "source": [
    "## Extracting Time/Date\n",
    "We can see that the time and date is always sandwiched as so:  \n",
    "&ensp;&ensp;```\\n @username\\n(TIME/DATE)\\n```    \n",
    "So I'll use a regular expression to capture just that."
   ]
  },
  {
   "cell_type": "code",
   "execution_count": 75,
   "metadata": {},
   "outputs": [
    {
     "data": {
      "text/html": [
       "<div>\n",
       "<style scoped>\n",
       "    .dataframe tbody tr th:only-of-type {\n",
       "        vertical-align: middle;\n",
       "    }\n",
       "\n",
       "    .dataframe tbody tr th {\n",
       "        vertical-align: top;\n",
       "    }\n",
       "\n",
       "    .dataframe thead th {\n",
       "        text-align: right;\n",
       "    }\n",
       "</style>\n",
       "<table border=\"1\" class=\"dataframe\">\n",
       "  <thead>\n",
       "    <tr style=\"text-align: right;\">\n",
       "      <th></th>\n",
       "      <th>raw_text</th>\n",
       "      <th>company</th>\n",
       "      <th>date</th>\n",
       "    </tr>\n",
       "  </thead>\n",
       "  <tbody>\n",
       "    <tr>\n",
       "      <td>0</td>\n",
       "      <td>Diversity News Magazine\\n @RealDNewsMag\\n12m\\n...</td>\n",
       "      <td>Instacart</td>\n",
       "      <td>12m</td>\n",
       "    </tr>\n",
       "    <tr>\n",
       "      <td>1</td>\n",
       "      <td>Deb WARRIOR WOMAN Farmer\\n @realdebfarmer\\n13m...</td>\n",
       "      <td>Instacart</td>\n",
       "      <td>13m</td>\n",
       "    </tr>\n",
       "    <tr>\n",
       "      <td>2</td>\n",
       "      <td>Polly Em\\n @PollyMoxie1\\n13m\\n13 minutes ago\\n...</td>\n",
       "      <td>Instacart</td>\n",
       "      <td>13m</td>\n",
       "    </tr>\n",
       "    <tr>\n",
       "      <td>3</td>\n",
       "      <td>shevonn damn\\n @thatsasexyname\\n14m\\n14 minute...</td>\n",
       "      <td>Instacart</td>\n",
       "      <td>14m</td>\n",
       "    </tr>\n",
       "    <tr>\n",
       "      <td>4</td>\n",
       "      <td>Hillary Bilheimer\\n @hbilheimer\\n20m\\n20 minut...</td>\n",
       "      <td>Instacart</td>\n",
       "      <td>20m</td>\n",
       "    </tr>\n",
       "  </tbody>\n",
       "</table>\n",
       "</div>"
      ],
      "text/plain": [
       "                                            raw_text    company date\n",
       "0  Diversity News Magazine\\n @RealDNewsMag\\n12m\\n...  Instacart  12m\n",
       "1  Deb WARRIOR WOMAN Farmer\\n @realdebfarmer\\n13m...  Instacart  13m\n",
       "2  Polly Em\\n @PollyMoxie1\\n13m\\n13 minutes ago\\n...  Instacart  13m\n",
       "3  shevonn damn\\n @thatsasexyname\\n14m\\n14 minute...  Instacart  14m\n",
       "4  Hillary Bilheimer\\n @hbilheimer\\n20m\\n20 minut...  Instacart  20m"
      ]
     },
     "execution_count": 75,
     "metadata": {},
     "output_type": "execute_result"
    }
   ],
   "source": [
    "regex = r'\\n @.*?\\n(.*?)\\n'\n",
    "df['date'] = df['raw_text'].str.extract(regex)\n",
    "df.head()"
   ]
  },
  {
   "cell_type": "markdown",
   "metadata": {},
   "source": [
    "## Filling in missing time/date values\n",
    "Looks like some of them don't have the ```'\\n'``` before the username, the following regular expression fixes that for the missing values."
   ]
  },
  {
   "cell_type": "code",
   "execution_count": 76,
   "metadata": {},
   "outputs": [
    {
     "data": {
      "text/plain": [
       "1545      @Rapidity856\\n10h\\n10 hours ago\\nMore\\nReplyi...\n",
       "2824      @HARRlESTILES\\n4h\\n4 hours ago\\nMore\\ndoor da...\n",
       "3433      @sochaoticdude\\n7h\\n7 hours ago\\nMore\\nif any...\n",
       "4578      @juliololololol\\n12h\\n12 hours ago\\nMore\\nRep...\n",
       "8240      @HighkeyMami\\n10m\\n10 minutes ago\\nMore\\norde...\n",
       "10447     @Rapidity856\\n10h\\n10 hours ago\\nMore\\nReplyi...\n",
       "10861     @Loucifer_III\\n11h\\n11 hours ago\\nMore\\nUber ...\n",
       "11751     @gngdemie\\n5h\\n5 hours ago\\nMore\\nReplying to...\n",
       "12964     @stopchrissy\\nMar 23\\nMore\\nramsis (it depend...\n",
       "12977     @JULlANNA21\\nMar 23\\nMore\\nTIP UR MF POSTMATE...\n",
       "13121     @joochanshp\\nMar 23\\nMore\\noomfmates is postm...\n",
       "Name: raw_text, dtype: object"
      ]
     },
     "execution_count": 76,
     "metadata": {},
     "output_type": "execute_result"
    }
   ],
   "source": [
    "missing_indices = df[df['date'].isna()].index\n",
    "df.loc[missing_indices,'raw_text']"
   ]
  },
  {
   "cell_type": "code",
   "execution_count": 77,
   "metadata": {},
   "outputs": [],
   "source": [
    "regex = '@.*?\\n(.*?)\\n'\n",
    "df.loc[missing_indices,'date'] = df.loc[missing_indices,'raw_text'].str.extract(regex)[0]"
   ]
  },
  {
   "cell_type": "markdown",
   "metadata": {},
   "source": [
    "## Extracting and cleaning raw tweet text\n",
    "The actual text comes in-between ```\\nMore\\n``` and ```\\nReply``` so we'll try extracting between there."
   ]
  },
  {
   "cell_type": "code",
   "execution_count": 78,
   "metadata": {},
   "outputs": [
    {
     "data": {
      "text/html": [
       "<div>\n",
       "<style scoped>\n",
       "    .dataframe tbody tr th:only-of-type {\n",
       "        vertical-align: middle;\n",
       "    }\n",
       "\n",
       "    .dataframe tbody tr th {\n",
       "        vertical-align: top;\n",
       "    }\n",
       "\n",
       "    .dataframe thead th {\n",
       "        text-align: right;\n",
       "    }\n",
       "</style>\n",
       "<table border=\"1\" class=\"dataframe\">\n",
       "  <thead>\n",
       "    <tr style=\"text-align: right;\">\n",
       "      <th></th>\n",
       "      <th>raw_text</th>\n",
       "      <th>company</th>\n",
       "      <th>date</th>\n",
       "      <th>text</th>\n",
       "    </tr>\n",
       "  </thead>\n",
       "  <tbody>\n",
       "    <tr>\n",
       "      <td>0</td>\n",
       "      <td>Diversity News Magazine\\n @RealDNewsMag\\n12m\\n...</td>\n",
       "      <td>Instacart</td>\n",
       "      <td>12m</td>\n",
       "      <td>Workers on Postmates, Instacart, DoorDash &amp; ot...</td>\n",
       "    </tr>\n",
       "    <tr>\n",
       "      <td>1</td>\n",
       "      <td>Deb WARRIOR WOMAN Farmer\\n @realdebfarmer\\n13m...</td>\n",
       "      <td>Instacart</td>\n",
       "      <td>13m</td>\n",
       "      <td>Replying to @BaldBoss68 @LifeOnLiberty @Instac...</td>\n",
       "    </tr>\n",
       "    <tr>\n",
       "      <td>2</td>\n",
       "      <td>Polly Em\\n @PollyMoxie1\\n13m\\n13 minutes ago\\n...</td>\n",
       "      <td>Instacart</td>\n",
       "      <td>13m</td>\n",
       "      <td>@Instacart where is my order? It has been 7 ho...</td>\n",
       "    </tr>\n",
       "    <tr>\n",
       "      <td>3</td>\n",
       "      <td>shevonn damn\\n @thatsasexyname\\n14m\\n14 minute...</td>\n",
       "      <td>Instacart</td>\n",
       "      <td>14m</td>\n",
       "      <td>First few symptoms, here it comes.\\nI'm fucked...</td>\n",
       "    </tr>\n",
       "    <tr>\n",
       "      <td>4</td>\n",
       "      <td>Hillary Bilheimer\\n @hbilheimer\\n20m\\n20 minut...</td>\n",
       "      <td>Instacart</td>\n",
       "      <td>20m</td>\n",
       "      <td>Has anyone else had a recent @Instacart custom...</td>\n",
       "    </tr>\n",
       "  </tbody>\n",
       "</table>\n",
       "</div>"
      ],
      "text/plain": [
       "                                            raw_text    company date  \\\n",
       "0  Diversity News Magazine\\n @RealDNewsMag\\n12m\\n...  Instacart  12m   \n",
       "1  Deb WARRIOR WOMAN Farmer\\n @realdebfarmer\\n13m...  Instacart  13m   \n",
       "2  Polly Em\\n @PollyMoxie1\\n13m\\n13 minutes ago\\n...  Instacart  13m   \n",
       "3  shevonn damn\\n @thatsasexyname\\n14m\\n14 minute...  Instacart  14m   \n",
       "4  Hillary Bilheimer\\n @hbilheimer\\n20m\\n20 minut...  Instacart  20m   \n",
       "\n",
       "                                                text  \n",
       "0  Workers on Postmates, Instacart, DoorDash & ot...  \n",
       "1  Replying to @BaldBoss68 @LifeOnLiberty @Instac...  \n",
       "2  @Instacart where is my order? It has been 7 ho...  \n",
       "3  First few symptoms, here it comes.\\nI'm fucked...  \n",
       "4  Has anyone else had a recent @Instacart custom...  "
      ]
     },
     "execution_count": 78,
     "metadata": {},
     "output_type": "execute_result"
    }
   ],
   "source": [
    "df['text'] = df['raw_text'].str.extract(r'\\nMore\\n([\\s\\S]*)\\nReply')\n",
    "df.head()"
   ]
  },
  {
   "cell_type": "markdown",
   "metadata": {},
   "source": [
    "The regular expression almost perfect but missed one tweet, since it is only one I'm simply going to fill it in manually."
   ]
  },
  {
   "cell_type": "code",
   "execution_count": 79,
   "metadata": {},
   "outputs": [],
   "source": [
    "df.loc[4188, 'text'] = 'Spent $30 on DoorDash and fell asleep'"
   ]
  },
  {
   "cell_type": "markdown",
   "metadata": {},
   "source": [
    "This looks good but the retweets still have a lot of junk in them. For the time being I'm just going to choose to extract what the retweeter added and ignore the base tweet as they may have different sentiments. Some other methodology could be used in the future."
   ]
  },
  {
   "cell_type": "code",
   "execution_count": 80,
   "metadata": {},
   "outputs": [],
   "source": [
    "regex = 'Retweeted[\\s\\S]*?\\n([\\s\\S]*)\\n[\\s\\S]*added,'\n",
    "\n",
    "indices_matches = df[df['text'].str.contains(regex)].index\n",
    "df.loc[indices_matches, 'text'] = df.loc[indices_matches, 'text'].str.extract(regex)[0]"
   ]
  },
  {
   "cell_type": "markdown",
   "metadata": {},
   "source": [
    "Finally we'll clean out the ```Replying to @user1 @user2\\n``` part of the reply tweets."
   ]
  },
  {
   "cell_type": "code",
   "execution_count": 94,
   "metadata": {},
   "outputs": [
    {
     "data": {
      "text/html": [
       "<div>\n",
       "<style scoped>\n",
       "    .dataframe tbody tr th:only-of-type {\n",
       "        vertical-align: middle;\n",
       "    }\n",
       "\n",
       "    .dataframe tbody tr th {\n",
       "        vertical-align: top;\n",
       "    }\n",
       "\n",
       "    .dataframe thead th {\n",
       "        text-align: right;\n",
       "    }\n",
       "</style>\n",
       "<table border=\"1\" class=\"dataframe\">\n",
       "  <thead>\n",
       "    <tr style=\"text-align: right;\">\n",
       "      <th></th>\n",
       "      <th>raw_text</th>\n",
       "      <th>company</th>\n",
       "      <th>date</th>\n",
       "      <th>text</th>\n",
       "    </tr>\n",
       "  </thead>\n",
       "  <tbody>\n",
       "    <tr>\n",
       "      <td>0</td>\n",
       "      <td>Diversity News Magazine\\n @RealDNewsMag\\n12m\\n...</td>\n",
       "      <td>Instacart</td>\n",
       "      <td>12m</td>\n",
       "      <td>Workers on Postmates, Instacart, DoorDash &amp; ot...</td>\n",
       "    </tr>\n",
       "    <tr>\n",
       "      <td>1</td>\n",
       "      <td>Deb WARRIOR WOMAN Farmer\\n @realdebfarmer\\n13m...</td>\n",
       "      <td>Instacart</td>\n",
       "      <td>13m</td>\n",
       "      <td>Being a veteran online shopper, I tried @Insta...</td>\n",
       "    </tr>\n",
       "    <tr>\n",
       "      <td>2</td>\n",
       "      <td>Polly Em\\n @PollyMoxie1\\n13m\\n13 minutes ago\\n...</td>\n",
       "      <td>Instacart</td>\n",
       "      <td>13m</td>\n",
       "      <td>@Instacart where is my order? It has been 7 ho...</td>\n",
       "    </tr>\n",
       "    <tr>\n",
       "      <td>3</td>\n",
       "      <td>shevonn damn\\n @thatsasexyname\\n14m\\n14 minute...</td>\n",
       "      <td>Instacart</td>\n",
       "      <td>14m</td>\n",
       "      <td>First few symptoms, here it comes.\\nI'm fucked...</td>\n",
       "    </tr>\n",
       "    <tr>\n",
       "      <td>4</td>\n",
       "      <td>Hillary Bilheimer\\n @hbilheimer\\n20m\\n20 minut...</td>\n",
       "      <td>Instacart</td>\n",
       "      <td>20m</td>\n",
       "      <td>Has anyone else had a recent @Instacart custom...</td>\n",
       "    </tr>\n",
       "  </tbody>\n",
       "</table>\n",
       "</div>"
      ],
      "text/plain": [
       "                                            raw_text    company date  \\\n",
       "0  Diversity News Magazine\\n @RealDNewsMag\\n12m\\n...  Instacart  12m   \n",
       "1  Deb WARRIOR WOMAN Farmer\\n @realdebfarmer\\n13m...  Instacart  13m   \n",
       "2  Polly Em\\n @PollyMoxie1\\n13m\\n13 minutes ago\\n...  Instacart  13m   \n",
       "3  shevonn damn\\n @thatsasexyname\\n14m\\n14 minute...  Instacart  14m   \n",
       "4  Hillary Bilheimer\\n @hbilheimer\\n20m\\n20 minut...  Instacart  20m   \n",
       "\n",
       "                                                text  \n",
       "0  Workers on Postmates, Instacart, DoorDash & ot...  \n",
       "1  Being a veteran online shopper, I tried @Insta...  \n",
       "2  @Instacart where is my order? It has been 7 ho...  \n",
       "3  First few symptoms, here it comes.\\nI'm fucked...  \n",
       "4  Has anyone else had a recent @Instacart custom...  "
      ]
     },
     "execution_count": 94,
     "metadata": {},
     "output_type": "execute_result"
    }
   ],
   "source": [
    "regex = r'Replying to.*?\\n([\\s\\S]*)'\n",
    "\n",
    "replies_indices = df[df['text'].str.contains(r'Replying to')].index\n",
    "df.loc[replies_indices, 'text'] = df.loc[replies_indices,'text'].str.extract(regex)[0]\n",
    "\n",
    "df.head()"
   ]
  },
  {
   "cell_type": "markdown",
   "metadata": {},
   "source": [
    "## Saving the cleaned dataframe"
   ]
  },
  {
   "cell_type": "code",
   "execution_count": 96,
   "metadata": {},
   "outputs": [],
   "source": [
    "df.to_csv('cleaned_tweets.csv', index = False)"
   ]
  },
  {
   "cell_type": "code",
   "execution_count": 3,
   "metadata": {},
   "outputs": [],
   "source": [
    "df = pd.read_csv('cleaned_tweets.csv')"
   ]
  },
  {
   "cell_type": "markdown",
   "metadata": {},
   "source": [
    "## Getting sentiment of each tweet\n",
    "I'll be using the vader sentiment analyzer. Before you can initialize the analyzer you must download the lexicon file, you can do so by running:\n",
    "```Python \n",
    "import nltk\n",
    "nltk.download('vader_lexicon')```"
   ]
  },
  {
   "cell_type": "code",
   "execution_count": 4,
   "metadata": {},
   "outputs": [
    {
     "data": {
      "text/html": [
       "<div>\n",
       "<style scoped>\n",
       "    .dataframe tbody tr th:only-of-type {\n",
       "        vertical-align: middle;\n",
       "    }\n",
       "\n",
       "    .dataframe tbody tr th {\n",
       "        vertical-align: top;\n",
       "    }\n",
       "\n",
       "    .dataframe thead th {\n",
       "        text-align: right;\n",
       "    }\n",
       "</style>\n",
       "<table border=\"1\" class=\"dataframe\">\n",
       "  <thead>\n",
       "    <tr style=\"text-align: right;\">\n",
       "      <th></th>\n",
       "      <th>raw_text</th>\n",
       "      <th>company</th>\n",
       "      <th>date</th>\n",
       "      <th>text</th>\n",
       "      <th>sentiment</th>\n",
       "    </tr>\n",
       "  </thead>\n",
       "  <tbody>\n",
       "    <tr>\n",
       "      <td>0</td>\n",
       "      <td>Diversity News Magazine\\n @RealDNewsMag\\n12m\\n...</td>\n",
       "      <td>Instacart</td>\n",
       "      <td>12m</td>\n",
       "      <td>Workers on Postmates, Instacart, DoorDash &amp; ot...</td>\n",
       "      <td>0.3616</td>\n",
       "    </tr>\n",
       "    <tr>\n",
       "      <td>1</td>\n",
       "      <td>Deb WARRIOR WOMAN Farmer\\n @realdebfarmer\\n13m...</td>\n",
       "      <td>Instacart</td>\n",
       "      <td>13m</td>\n",
       "      <td>Being a veteran online shopper, I tried @Insta...</td>\n",
       "      <td>-0.3595</td>\n",
       "    </tr>\n",
       "    <tr>\n",
       "      <td>2</td>\n",
       "      <td>Polly Em\\n @PollyMoxie1\\n13m\\n13 minutes ago\\n...</td>\n",
       "      <td>Instacart</td>\n",
       "      <td>13m</td>\n",
       "      <td>@Instacart where is my order? It has been 7 ho...</td>\n",
       "      <td>0.0000</td>\n",
       "    </tr>\n",
       "    <tr>\n",
       "      <td>3</td>\n",
       "      <td>shevonn damn\\n @thatsasexyname\\n14m\\n14 minute...</td>\n",
       "      <td>Instacart</td>\n",
       "      <td>14m</td>\n",
       "      <td>First few symptoms, here it comes.\\nI'm fucked...</td>\n",
       "      <td>-0.8225</td>\n",
       "    </tr>\n",
       "    <tr>\n",
       "      <td>4</td>\n",
       "      <td>Hillary Bilheimer\\n @hbilheimer\\n20m\\n20 minut...</td>\n",
       "      <td>Instacart</td>\n",
       "      <td>20m</td>\n",
       "      <td>Has anyone else had a recent @Instacart custom...</td>\n",
       "      <td>0.3612</td>\n",
       "    </tr>\n",
       "  </tbody>\n",
       "</table>\n",
       "</div>"
      ],
      "text/plain": [
       "                                            raw_text    company date  \\\n",
       "0  Diversity News Magazine\\n @RealDNewsMag\\n12m\\n...  Instacart  12m   \n",
       "1  Deb WARRIOR WOMAN Farmer\\n @realdebfarmer\\n13m...  Instacart  13m   \n",
       "2  Polly Em\\n @PollyMoxie1\\n13m\\n13 minutes ago\\n...  Instacart  13m   \n",
       "3  shevonn damn\\n @thatsasexyname\\n14m\\n14 minute...  Instacart  14m   \n",
       "4  Hillary Bilheimer\\n @hbilheimer\\n20m\\n20 minut...  Instacart  20m   \n",
       "\n",
       "                                                text  sentiment  \n",
       "0  Workers on Postmates, Instacart, DoorDash & ot...     0.3616  \n",
       "1  Being a veteran online shopper, I tried @Insta...    -0.3595  \n",
       "2  @Instacart where is my order? It has been 7 ho...     0.0000  \n",
       "3  First few symptoms, here it comes.\\nI'm fucked...    -0.8225  \n",
       "4  Has anyone else had a recent @Instacart custom...     0.3612  "
      ]
     },
     "execution_count": 4,
     "metadata": {},
     "output_type": "execute_result"
    }
   ],
   "source": [
    "analyzer = SentimentIntensityAnalyzer()\n",
    "\n",
    "def get_sentiment(row):\n",
    "    return analyzer.polarity_scores(row['text'])['compound']\n",
    "\n",
    "df['sentiment'] = df.apply(get_sentiment, axis = 1)\n",
    "df.head()"
   ]
  },
  {
   "cell_type": "markdown",
   "metadata": {},
   "source": [
    "## Plotting average sentiments"
   ]
  },
  {
   "cell_type": "code",
   "execution_count": 23,
   "metadata": {},
   "outputs": [
    {
     "data": {
      "image/png": "[encoded data removed]",
      "text/plain": [
       "<Figure size 1440x1440 with 1 Axes>"
      ]
     },
     "metadata": {
      "needs_background": "light"
     },
     "output_type": "display_data"
    }
   ],
   "source": [
    "# Setting up the figure and axes\n",
    "fig = plt.figure(figsize=(20,20))\n",
    "ax = fig.add_subplot(111)\n",
    "\n",
    "# Grouping to get means of each company and creating the barplot\n",
    "means = df.groupby('company').mean().reset_index()\n",
    "sns.barplot(x='company', y='sentiment',\n",
    "            data=means.sort_values(by='sentiment',ascending=False),\n",
    "            palette=\"coolwarm\");\n",
    "\n",
    "# Labeling (and un-labelling x-axis)\n",
    "ax.set_title('Average Sentiment of Tweets Containing Company Name')\n",
    "ax.set_ylabel('Sentiment')\n",
    "ax.set_xlabel('')\n",
    "\n",
    "# Increasing size of text and ticks\n",
    "for item in ([ax.title, ax.xaxis.label, ax.yaxis.label] +\n",
    "             ax.get_xticklabels() + ax.get_yticklabels()):\n",
    "    item.set_fontsize(24);"
   ]
  },
  {
   "cell_type": "markdown",
   "metadata": {},
   "source": [
    "We see that GrubHub has the highest average sentiment with a score above 0.2, while instacart has the lowest with an average sentiment score just below 0.1. While this may seem large, and indeed it is twice as big, it is worth noting that the standard deviation of the scores of all the tweets is 0.45, and thus Grubhub has a score only a quarter of a standard deviation above instacart."
   ]
  },
  {
   "cell_type": "markdown",
   "metadata": {},
   "source": [
    "## Boxplots\n",
    "To get some more detail about the actual distribution of sentiments for each company beyond just the mean we'll create side by side boxplots below, where the white circles indicate the mean sentiment score of the company (same as above), and the red line indicates the median score."
   ]
  },
  {
   "cell_type": "code",
   "execution_count": 30,
   "metadata": {},
   "outputs": [
    {
     "data": {
      "image/png": "[encoded data removed]",
      "text/plain": [
       "<Figure size 1440x1440 with 1 Axes>"
      ]
     },
     "metadata": {
      "needs_background": "light"
     },
     "output_type": "display_data"
    }
   ],
   "source": [
    "# Setting up the figure and axes\n",
    "fig = plt.figure(figsize=(20,20))\n",
    "ax = fig.add_subplot(111)\n",
    "\n",
    "# Creating the boxplot\n",
    "sns.boxplot(x='company', y='sentiment', data=df, ax=ax,\n",
    "            order = ['GrubHub','DoorDash','Postmates','Uber Eats', 'Instacart'],\n",
    "            palette=\"coolwarm\",\n",
    "            medianprops={'color':'red', 'linewidth':4},\n",
    "            showmeans = True,\n",
    "            meanprops={'marker':'o','markerfacecolor':'white','markersize':12})\n",
    "\n",
    "# Labeling\n",
    "ax.set_title('Tweet Sentiments', fontdict={'fontsize':22})\n",
    "ax.set_ylabel('Sentiment')\n",
    "ax.set_xlabel('')\n",
    "\n",
    "# Increasing size of text and ticks\n",
    "for item in ([ax.xaxis.label, ax.yaxis.label] +\n",
    "             ax.get_xticklabels() + ax.get_yticklabels()):\n",
    "    item.set_fontsize(20);\n",
    "    \n",
    "# Saving the graph\n",
    "fig.savefig('Tweets Sentiments.png', dpi = fig.dpi, bbox_inches = \"tight\");"
   ]
  },
  {
   "cell_type": "markdown",
   "metadata": {},
   "source": [
    "Above we can see more clearly that the means are indeed not very far apart. We can also see that the VADER sentiment score is often exactly 0 as that's the median value of every company except GrubHub and it's also the 25th percentile for every company except instacart."
   ]
  }
 ],
 "metadata": {
  "kernelspec": {
   "display_name": "Python [conda env:root]",
   "language": "python",
   "name": "conda-root-py"
  },
  "language_info": {
   "codemirror_mode": {
    "name": "ipython",
    "version": 3
   },
   "file_extension": ".py",
   "mimetype": "text/x-python",
   "name": "python",
   "nbconvert_exporter": "python",
   "pygments_lexer": "ipython3",
   "version": "3.7.4"
  }
 },
 "nbformat": 4,
 "nbformat_minor": 2
}
